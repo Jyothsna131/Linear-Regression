{
 "cells": [
  {
   "cell_type": "markdown",
   "metadata": {},
   "source": [
    "# Read Data"
   ]
  },
  {
   "cell_type": "code",
   "execution_count": 1,
   "metadata": {},
   "outputs": [],
   "source": [
    "from numpy import genfromtxt\n",
    "import numpy as np\n",
    "import pylab as p\n",
    "\n",
    "# read data from csv\n",
    "def read_csv(trainPath,testPath):\n",
    "    my_data_train = genfromtxt(trainPath, delimiter=',')  #reading data from csv file\n",
    "    my_data_test = genfromtxt(testPath, delimiter=',')\n",
    "\n",
    "    my_data_train1=my_data_train[1:]   #first row contains names, so drop it\n",
    "    my_data_test1=my_data_test[1:]\n",
    "    x1,y1=np.transpose(my_data_train1)\n",
    "    x2,y2=np.transpose(my_data_test1)\n",
    "    return x1,y1,x2,y2"
   ]
  },
  {
   "cell_type": "markdown",
   "metadata": {},
   "source": [
    "# Visualize Data "
   ]
  },
  {
   "cell_type": "code",
   "execution_count": 2,
   "metadata": {},
   "outputs": [],
   "source": [
    "#Plot the graph of training data and testing data\n",
    "def plot(x1,y1,x2,y2):\n",
    "    fig,(ax1,ax2)=p.subplots(1,2)               \n",
    "    ax1.plot(x1,y1,'o')\n",
    "    ax1.set_title('Train  Data')\n",
    "    ax1.set_xlabel('Feature')\n",
    "    ax1.set_ylabel('Label')\n",
    "\n",
    "    #Plot the graph of testing data\n",
    "    ax2.plot(x2,y2,'o')\n",
    "    ax2.set_title('Test Data')\n",
    "    ax2.set_xlabel('Feature')\n",
    "    ax2.set_ylabel('Label')"
   ]
  },
  {
   "cell_type": "code",
   "execution_count": 3,
   "metadata": {},
   "outputs": [
    {
     "data": {
      "image/png": "[encoded data removed]",
      "text/plain": [
       "<Figure size 432x288 with 2 Axes>"
      ]
     },
     "metadata": {
      "needs_background": "light"
     },
     "output_type": "display_data"
    }
   ],
   "source": [
    "x1,y1,x2,y2=read_csv('train1.csv','test1.csv')\n",
    "plot(x1,y1,x2,y2)"
   ]
  },
  {
   "cell_type": "markdown",
   "metadata": {},
   "source": [
    "# Linear Regression\n",
    "\n",
    "**1. Choose hypothesis:**           \n",
    "              \n",
    "$h(x)=w_0+w_1x+w_2x^2+w_3x^3+w_4x^4$\n",
    "\n",
    "For a given input x:   \n",
    "\n",
    "**1. create an input vector as**  $ X= [1, x, x^2, x^3, x^4]$      \n",
    "          \n",
    "          Resulting shape will be (m,5) where m is no. of training samples\n",
    "\n",
    "**2. create a weight vector as** $ W=[w_0;w_1;w_2;w_3;w_4]$      \n",
    "          \n",
    "          Resulting shape will be (5,1)\n",
    "\n",
    "   \n",
    "   \n",
    "##### Predicted output will be:   \n",
    "   \n",
    "          h=X*W    shape (m,1)\n"
   ]
  },
  {
   "cell_type": "code",
   "execution_count": 15,
   "metadata": {},
   "outputs": [],
   "source": [
    "# Input vector   \n",
    "# degree is the no. of features: here it is 4\n",
    "def inp(x,degree=4):\n",
    "    vector=np.array([x**i for i in range(degree+1)])\n",
    "    return np.transpose(vector)\n",
    "\n",
    "# weight vector  \n",
    "def initialize_weights(degree=4):\n",
    "    w=np.ones([degree+1,1])\n",
    "    return w"
   ]
  },
  {
   "cell_type": "markdown",
   "metadata": {},
   "source": [
    "### 2. Define Cost function:\n",
    "\n",
    "\n",
    "$J(w)=\\frac{1}{2m}\\sum_{i=1}^{m} (h(x^i)-y^i)^2$"
   ]
  },
  {
   "cell_type": "code",
   "execution_count": 5,
   "metadata": {},
   "outputs": [],
   "source": [
    "def costFn(h,y):\n",
    "    error=h-y\n",
    "    m=len(y)\n",
    "    cost=(1/(2*m))*np.sum(np.power(error,2))\n",
    "    return cost\n",
    "    "
   ]
  },
  {
   "cell_type": "markdown",
   "metadata": {},
   "source": [
    "# Train the model\n",
    "1. Initialize weights\n",
    "**Repeat until convergence or upto predefined no. of epochs:**     \n",
    "\n",
    "{\n",
    "\n",
    "2. Compute h(x)\n",
    "3. Estimate error (h(x)-y)\n",
    "4. Calculate cost using cost function\n",
    "5. Update all parameters simultaneously using gradient descent:  \n",
    "$\\frac{\\partial}{\\partial w_j}(J(w))=\\frac{1}{m}\\sum_{i=1}^{m}(h_w(x^i)-y^i)x_j$   \n",
    "$w_j=w_j-\\alpha \\frac{\\partial}{\\partial w_j}(J(w))$\n",
    "\n",
    "}"
   ]
  },
  {
   "cell_type": "code",
   "execution_count": 49,
   "metadata": {},
   "outputs": [],
   "source": [
    "def train(X,y1,epochs=100000):\n",
    "    alpha=0.05\n",
    "    W=initialize_weights()\n",
    "    \n",
    "    for i in range(epochs):\n",
    "        h=np.dot(X,W)       #compute h(x)\n",
    "        error=h-y1\n",
    "        m=len(y1)\n",
    "        W=W-((alpha/m)*np.dot(np.transpose(X),error))    #updation\n",
    "    print('training error is',costFn(h,y1))\n",
    "    return W,h\n",
    "        \n",
    "        "
   ]
  },
  {
   "cell_type": "code",
   "execution_count": 50,
   "metadata": {},
   "outputs": [
    {
     "name": "stdout",
     "output_type": "stream",
     "text": [
      "training error is 0.008325867437784983\n"
     ]
    }
   ],
   "source": [
    "#W=initialize_weights()\n",
    "X=inp(x1)\n",
    "y1=np.reshape(y1,(len(y1),1))\n",
    "W,htrain=train(X,y1)"
   ]
  },
  {
   "cell_type": "markdown",
   "metadata": {},
   "source": [
    "#### To continue training from present epoch:"
   ]
  },
  {
   "cell_type": "code",
   "execution_count": 51,
   "metadata": {},
   "outputs": [],
   "source": [
    "def Cont_train(X,y1,W,epochs):\n",
    "    alpha=0.05\n",
    "    for i in range(epochs):\n",
    "        h=np.dot(X,W)       #compute h(x)\n",
    "        error=h-y1\n",
    "        m=len(y1)\n",
    "        W=W-((alpha/m)*np.dot(np.transpose(X),error))    #updation\n",
    "    print('training error is',costFn(h,y1))\n",
    "    return W,h"
   ]
  },
  {
   "cell_type": "code",
   "execution_count": 52,
   "metadata": {},
   "outputs": [
    {
     "name": "stdout",
     "output_type": "stream",
     "text": [
      "training error is 0.007296788595932911\n"
     ]
    }
   ],
   "source": [
    "W,h=Cont_train(X,y1,W,epochs=10000)"
   ]
  },
  {
   "cell_type": "markdown",
   "metadata": {},
   "source": [
    "# Test the model"
   ]
  },
  {
   "cell_type": "code",
   "execution_count": 53,
   "metadata": {},
   "outputs": [],
   "source": [
    "def test(x,y,W):\n",
    "    X=inp(x)\n",
    "    pred=np.dot(X,W)\n",
    "    error=costFn(pred,y)\n",
    "    print(\"test error is\",error)\n",
    "    return pred\n",
    "    "
   ]
  },
  {
   "cell_type": "code",
   "execution_count": 54,
   "metadata": {},
   "outputs": [
    {
     "name": "stdout",
     "output_type": "stream",
     "text": [
      "test error is 0.007520253390878739\n"
     ]
    }
   ],
   "source": [
    "y2=np.reshape(y2,(len(y2),1))\n",
    "htest=test(x2,y2,W)"
   ]
  },
  {
   "cell_type": "markdown",
   "metadata": {},
   "source": [
    "#  Visualization of the fitted Curves"
   ]
  },
  {
   "cell_type": "code",
   "execution_count": 60,
   "metadata": {},
   "outputs": [],
   "source": [
    "import matplotlib.pyplot as plt\n",
    "def plotcurve(x,h,title):\n",
    "    plt.plot(x,h,'o')\n",
    "    plt.title('Train Data')\n",
    "    plt.xlabel('Feature')\n",
    "    plt.ylabel('Label')"
   ]
  },
  {
   "cell_type": "code",
   "execution_count": 61,
   "metadata": {},
   "outputs": [
    {
     "data": {
      "image/png": "[encoded data removed]",
      "text/plain": [
       "<Figure size 432x288 with 1 Axes>"
      ]
     },
     "metadata": {
      "needs_background": "light"
     },
     "output_type": "display_data"
    }
   ],
   "source": [
    "plotcurve(x1,htrain,'Train Data')"
   ]
  },
  {
   "cell_type": "code",
   "execution_count": 62,
   "metadata": {},
   "outputs": [
    {
     "data": {
      "image/png": "[encoded data removed]",
      "text/plain": [
       "<Figure size 432x288 with 1 Axes>"
      ]
     },
     "metadata": {
      "needs_background": "light"
     },
     "output_type": "display_data"
    }
   ],
   "source": [
    "plotcurve(x2,htest,'Test Data')"
   ]
  }
 ],
 "metadata": {
  "kernelspec": {
   "display_name": "Python 3",
   "language": "python",
   "name": "python3"
  },
  "language_info": {
   "codemirror_mode": {
    "name": "ipython",
    "version": 3
   },
   "file_extension": ".py",
   "mimetype": "text/x-python",
   "name": "python",
   "nbconvert_exporter": "python",
   "pygments_lexer": "ipython3",
   "version": "3.7.6"
  }
 },
 "nbformat": 4,
 "nbformat_minor": 2
}
